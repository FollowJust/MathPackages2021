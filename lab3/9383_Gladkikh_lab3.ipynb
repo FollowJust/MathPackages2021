{
 "cells": [
  {
   "cell_type": "markdown",
   "metadata": {},
   "source": [
    "# Гладких Андрей, группа 9383"
   ]
  },
  {
   "cell_type": "markdown",
   "metadata": {},
   "source": [
    "# Практическая работа №3:  Практическое применение библиотеки символьных вычислений Python (SymPy) для решения задач дискретной математики и математической логики"
   ]
  },
  {
   "cell_type": "markdown",
   "metadata": {},
   "source": [
    " ### Вариант 2. \n",
    " #### DM Вар. 42,ML Вар. 62"
   ]
  },
  {
   "cell_type": "markdown",
   "metadata": {},
   "source": [
    "## 1. Решить диофантово уравнение."
   ]
  },
  {
   "cell_type": "markdown",
   "metadata": {},
   "source": [
    "${1260x - 1169y=49}$"
   ]
  },
  {
   "cell_type": "code",
   "execution_count": 1,
   "metadata": {},
   "outputs": [],
   "source": [
    "from sympy.solvers.diophantine import diop_solve\n",
    "from sympy.abc import x, y"
   ]
  },
  {
   "cell_type": "code",
   "execution_count": 2,
   "metadata": {},
   "outputs": [
    {
     "data": {
      "text/latex": [
       "$\\displaystyle \\left( 167 t_{0} - 539, \\  180 t_{0} - 581\\right)$"
      ],
      "text/plain": [
       "(167*t_0 - 539, 180*t_0 - 581)"
      ]
     },
     "execution_count": 2,
     "metadata": {},
     "output_type": "execute_result"
    }
   ],
   "source": [
    "diop_solve(1260 * x - 1169 * y - 49)"
   ]
  },
  {
   "cell_type": "markdown",
   "metadata": {},
   "source": [
    "## 2. Имея открытую часть ключа RSA найти соответствующую закрытую часть и расшифровать кодированное слово."
   ]
  },
  {
   "cell_type": "code",
   "execution_count": 3,
   "metadata": {},
   "outputs": [],
   "source": [
    "from sympy.crypto.crypto import decipher_rsa\n",
    "from sympy.crypto.crypto import rsa_private_key"
   ]
  },
  {
   "cell_type": "code",
   "execution_count": 4,
   "metadata": {},
   "outputs": [
    {
     "name": "stdout",
     "output_type": "stream",
     "text": [
      "Закрытый ключ: (39, 11)\n",
      "Зашифрованное сообщение: ЛРКТ [13, 18, 12, 20]\n",
      "Дешифрованное сообщение: ЛУКА [13, 21, 12, 2]\n"
     ]
    }
   ],
   "source": [
    "alphabet = [\"А\", \"Б\", \"В\", \"Г\", \"Д\", \"Е\",\n",
    "            \"Ж\", \"З\", \"И\", \"Й\", \"К\", \"Л\",\n",
    "            \"М\", \"Н\", \"О\", \"П\", \"Р\", \"С\", \n",
    "            \"Т\", \"У\", \"Ф\", \"Х\", \"Ц\", \"Ч\",\n",
    "            \"Ш\", \"Щ\", \"Ы\", \"Ь\", \"Э\", \"Ю\",\n",
    "            \"Я\"]\n",
    "\n",
    "e = 11\n",
    "m = 39\n",
    "\n",
    "privateKey = rsa_private_key(m, e)\n",
    "print(\"Закрытый ключ:\", privateKey)\n",
    "\n",
    "encryptedMessage = [13, 18, 12, 20]\n",
    "print(\"Зашифрованное сообщение:\", \n",
    "      \"\".join([alphabet[ch - 2] for ch in encryptedMessage]),\n",
    "     encryptedMessage)\n",
    "decryptedMessage = [decipher_rsa(ch, privateKey) for ch in encryptedMessage]\n",
    "print(\"Дешифрованное сообщение:\", \n",
    "      \"\".join([alphabet[ch - 2] for ch in decryptedMessage]),\n",
    "     decryptedMessage)"
   ]
  },
  {
   "cell_type": "markdown",
   "metadata": {},
   "source": [
    "## 3. Записать в формате ДНФ и КНФ булеву функцию, заданную своим аналитическим выражением."
   ]
  },
  {
   "cell_type": "code",
   "execution_count": 5,
   "metadata": {},
   "outputs": [],
   "source": [
    "from sympy.logic.boolalg import to_dnf, to_cnf, Xor\n",
    "from sympy.abc import X, Y, Z"
   ]
  },
  {
   "cell_type": "code",
   "execution_count": 6,
   "metadata": {},
   "outputs": [],
   "source": [
    "f = (Xor((Xor(Z, Y)&(Z | X)), ((X | Y) | (Y & X)))) "
   ]
  },
  {
   "cell_type": "code",
   "execution_count": 7,
   "metadata": {},
   "outputs": [
    {
     "name": "stdout",
     "output_type": "stream",
     "text": [
      "ДНФ:\n"
     ]
    },
    {
     "data": {
      "text/latex": [
       "$\\displaystyle \\left(Y \\wedge Z\\right) \\vee \\left(Y \\wedge \\neg X\\right) \\vee \\left(Z \\wedge \\neg X\\right) \\vee \\left(X \\wedge \\neg Y \\wedge \\neg Z\\right)$"
      ],
      "text/plain": [
       "(Y & Z) | (Y & ~X) | (Z & ~X) | (X & ~Y & ~Z)"
      ]
     },
     "execution_count": 7,
     "metadata": {},
     "output_type": "execute_result"
    }
   ],
   "source": [
    "print(\"ДНФ:\")\n",
    "to_dnf(f, True)"
   ]
  },
  {
   "cell_type": "code",
   "execution_count": 8,
   "metadata": {},
   "outputs": [
    {
     "name": "stdout",
     "output_type": "stream",
     "text": [
      "КНФ:\n"
     ]
    },
    {
     "data": {
      "text/latex": [
       "$\\displaystyle \\left(X \\vee Y \\vee Z\\right) \\wedge \\left(Y \\vee \\neg X \\vee \\neg Z\\right) \\wedge \\left(Z \\vee \\neg X \\vee \\neg Y\\right)$"
      ],
      "text/plain": [
       "(X | Y | Z) & (Y | ~X | ~Z) & (Z | ~X | ~Y)"
      ]
     },
     "execution_count": 8,
     "metadata": {},
     "output_type": "execute_result"
    }
   ],
   "source": [
    "print(\"КНФ:\")\n",
    "to_cnf(f, True)"
   ]
  },
  {
   "cell_type": "code",
   "execution_count": null,
   "metadata": {},
   "outputs": [],
   "source": []
  }
 ],
 "metadata": {
  "kernelspec": {
   "display_name": "Python 3 (ipykernel)",
   "language": "python",
   "name": "python3"
  },
  "language_info": {
   "codemirror_mode": {
    "name": "ipython",
    "version": 3
   },
   "file_extension": ".py",
   "mimetype": "text/x-python",
   "name": "python",
   "nbconvert_exporter": "python",
   "pygments_lexer": "ipython3",
   "version": "3.9.7"
  }
 },
 "nbformat": 4,
 "nbformat_minor": 4
}
